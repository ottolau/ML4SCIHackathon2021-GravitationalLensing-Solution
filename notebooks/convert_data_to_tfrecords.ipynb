{
 "cells": [
  {
   "cell_type": "code",
   "execution_count": null,
   "metadata": {
    "executionInfo": {
     "elapsed": 4331,
     "status": "ok",
     "timestamp": 1636850624989,
     "user": {
      "displayName": "Ka Tung Lau",
      "photoUrl": "https://lh3.googleusercontent.com/a/default-user=s64",
      "userId": "04702512986426347390"
     },
     "user_tz": 300
    },
    "id": "-XH8axFzkrue"
   },
   "outputs": [],
   "source": [
    "import numpy as np, pandas as pd, os\n",
    "import tensorflow as tf, re, math\n",
    "from tqdm.notebook import tqdm\n",
    "import random\n",
    "from sklearn.model_selection import train_test_split"
   ]
  },
  {
   "cell_type": "code",
   "execution_count": null,
   "metadata": {
    "executionInfo": {
     "elapsed": 10,
     "status": "ok",
     "timestamp": 1636850624990,
     "user": {
      "displayName": "Ka Tung Lau",
      "photoUrl": "https://lh3.googleusercontent.com/a/default-user=s64",
      "userId": "04702512986426347390"
     },
     "user_tz": 300
    },
    "id": "LHHHPQTXkrug"
   },
   "outputs": [],
   "source": [
    "def _float_feature(value):\n",
    "    \"\"\"Returns a float_list from a float / double.\"\"\"\n",
    "    return tf.train.Feature(float_list=tf.train.FloatList(value=value))\n",
    "\n",
    "def _int64_feature(value):\n",
    "    \"\"\"Returns an int64_list from a bool / enum / int / uint.\"\"\"\n",
    "    return tf.train.Feature(int64_list=tf.train.Int64List(value=[value]))"
   ]
  },
  {
   "cell_type": "code",
   "execution_count": null,
   "metadata": {
    "executionInfo": {
     "elapsed": 8,
     "status": "ok",
     "timestamp": 1636850624991,
     "user": {
      "displayName": "Ka Tung Lau",
      "photoUrl": "https://lh3.googleusercontent.com/a/default-user=s64",
      "userId": "04702512986426347390"
     },
     "user_tz": 300
    },
    "id": "WM1sQnsAkruh"
   },
   "outputs": [],
   "source": [
    "def serialize_example(feature0, feature1):\n",
    "    feature = {\n",
    "      'image': _float_feature(feature0),\n",
    "      'label': _int64_feature(feature1),\n",
    "    }\n",
    "    example_proto = tf.train.Example(features=tf.train.Features(feature=feature))\n",
    "    return example_proto.SerializeToString()"
   ]
  },
  {
   "cell_type": "code",
   "execution_count": null,
   "metadata": {
    "executionInfo": {
     "elapsed": 8,
     "status": "ok",
     "timestamp": 1636850624992,
     "user": {
      "displayName": "Ka Tung Lau",
      "photoUrl": "https://lh3.googleusercontent.com/a/default-user=s64",
      "userId": "04702512986426347390"
     },
     "user_tz": 300
    },
    "id": "yZKp-w3XpaMx"
   },
   "outputs": [],
   "source": [
    "def write_tfrecord(file_list, output):\n",
    "    with tf.io.TFRecordWriter(output) as writer:\n",
    "        print('Writing TFRecord ...')\n",
    "        for image_path, label in tqdm(file_list):\n",
    "            img = np.load(image_path)\n",
    "            if img.shape[1] != 150 or img.shape[2] != 150: print(img.shape)\n",
    "            img = img.reshape(-1)\n",
    "            example = serialize_example(img, label)\n",
    "            writer.write(example)\n",
    "    print('Finished!')"
   ]
  },
  {
   "cell_type": "code",
   "execution_count": null,
   "metadata": {
    "colab": {
     "base_uri": "https://localhost:8080/"
    },
    "executionInfo": {
     "elapsed": 21836,
     "status": "ok",
     "timestamp": 1636850646821,
     "user": {
      "displayName": "Ka Tung Lau",
      "photoUrl": "https://lh3.googleusercontent.com/a/default-user=s64",
      "userId": "04702512986426347390"
     },
     "user_tz": 300
    },
    "id": "8krIZZvoqr-t",
    "outputId": "f10f18ad-0545-4356-cd1d-4a79626d2b8d"
   },
   "outputs": [],
   "source": [
    "from google.colab import drive\n",
    "drive.mount('/content/drive')\n",
    "%cd /content/drive/MyDrive/Colab\\ Notebooks/ML4SCI"
   ]
  },
  {
   "cell_type": "code",
   "execution_count": null,
   "metadata": {},
   "outputs": [],
   "source": [
    "# Download Dataset\n",
    "!gdown http://drive.google.com/uc?id=1B_UZtU4W65ZViTJsLeFfvK-xXCYUhw2A\n",
    "!unzip -q dataset.zip"
   ]
  },
  {
   "cell_type": "code",
   "execution_count": null,
   "metadata": {
    "executionInfo": {
     "elapsed": 49559,
     "status": "ok",
     "timestamp": 1636850699231,
     "user": {
      "displayName": "Ka Tung Lau",
      "photoUrl": "https://lh3.googleusercontent.com/a/default-user=s64",
      "userId": "04702512986426347390"
     },
     "user_tz": 300
    },
    "id": "F11eZfi4kruh"
   },
   "outputs": [],
   "source": [
    "train_path1 = './dataset/train/no'\n",
    "train_files1 = [(os.path.join(train_path1, f), 0) for f in os.listdir(train_path1) if f.endswith(\".npy\")]\n",
    "train_path2 = './dataset/train/sphere'\n",
    "train_files2 = [(os.path.join(train_path2, f), 1) for f in os.listdir(train_path2) if f.endswith(\".npy\")]\n",
    "train_path3 = './dataset/train/vort'\n",
    "train_files3 = [(os.path.join(train_path3, f), 2) for f in os.listdir(train_path3) if f.endswith(\".npy\")]\n",
    "\n",
    "train_files = train_files1 + train_files2 + train_files3\n",
    "random.shuffle(train_files)\n",
    "\n",
    "train, test = train_test_split(train_files, test_size=0.2)"
   ]
  },
  {
   "cell_type": "code",
   "execution_count": null,
   "metadata": {
    "colab": {
     "base_uri": "https://localhost:8080/",
     "height": 83,
     "referenced_widgets": [
      "dc0f938ecf6e452f9a497a311081d191",
      "d83bced47fd74b8babec33d817b08e6a",
      "34f16beb85774ac4a92139bc25982060",
      "4604852a2efb4d18a7c9fea07504eae7",
      "2d62ed9fe8c94a05bf14b12a0c1ccecf",
      "1f9bcfa1cda049d490a08e88af9e8b55",
      "a90c64e3acde4a16b11b8d3d19af4c31",
      "6714aa2ca45e49d9ac2f07f6768b5cc8",
      "5eeddd3a2c4b4c99947c497de17c8a39",
      "24b266e85faf4bd89854c57a7b5e5c20",
      "56d8275d09e945afac3f1f1a52dc4a63"
     ]
    },
    "executionInfo": {
     "elapsed": 5503543,
     "status": "ok",
     "timestamp": 1636856202746,
     "user": {
      "displayName": "Ka Tung Lau",
      "photoUrl": "https://lh3.googleusercontent.com/a/default-user=s64",
      "userId": "04702512986426347390"
     },
     "user_tz": 300
    },
    "id": "qbOEgr945gX2",
    "outputId": "97af4668-68b2-4a18-f5c7-c8114b7c53f3"
   },
   "outputs": [],
   "source": [
    "write_tfrecord(train_files, 'tfrecord_train_full_shuffle.tfrec')"
   ]
  },
  {
   "cell_type": "code",
   "execution_count": null,
   "metadata": {
    "id": "PmFiMtAFpR8e"
   },
   "outputs": [],
   "source": [
    "write_tfrecord(train, 'tfrecord_train_shuffle.tfrec')\n",
    "write_tfrecord(test, 'tfrecord_train_val_shuffle.tfrec')"
   ]
  },
  {
   "cell_type": "code",
   "execution_count": null,
   "metadata": {
    "id": "wmXXVwNykrui"
   },
   "outputs": [],
   "source": [
    "val_path1 = './dataset/val/no'\n",
    "val_files1 = [(os.path.join(val_path1, f), 0) for f in os.listdir(val_path1) if f.endswith(\".npy\")]\n",
    "val_path2 = './dataset/val/sphere'\n",
    "val_files2 = [(os.path.join(val_path2, f), 1) for f in os.listdir(val_path2) if f.endswith(\".npy\")]\n",
    "val_path3 = './dataset/val/vort'\n",
    "val_files3 = [(os.path.join(val_path3, f), 2) for f in os.listdir(val_path3) if f.endswith(\".npy\")]\n",
    "\n",
    "val_files = val_files1 + val_files2 + val_files3\n",
    "\n",
    "write_tfrecord(val_files, 'tfrecord_val.tfrec')"
   ]
  },
  {
   "cell_type": "code",
   "execution_count": null,
   "metadata": {
    "id": "i32MbqR2rpzU"
   },
   "outputs": [],
   "source": []
  }
 ],
 "metadata": {
  "colab": {
   "collapsed_sections": [],
   "name": "npy2tfrecord.ipynb",
   "provenance": []
  },
  "kernelspec": {
   "display_name": "Python 3",
   "language": "python",
   "name": "python3"
  },
  "language_info": {
   "codemirror_mode": {
    "name": "ipython",
    "version": 3
   },
   "file_extension": ".py",
   "mimetype": "text/x-python",
   "name": "python",
   "nbconvert_exporter": "python",
   "pygments_lexer": "ipython3",
   "version": "3.7.4"
  },
  "widgets": {
   "application/vnd.jupyter.widget-state+json": {
    "1f9bcfa1cda049d490a08e88af9e8b55": {
     "model_module": "@jupyter-widgets/controls",
     "model_module_version": "1.5.0",
     "model_name": "DescriptionStyleModel",
     "state": {
      "_model_module": "@jupyter-widgets/controls",
      "_model_module_version": "1.5.0",
      "_model_name": "DescriptionStyleModel",
      "_view_count": null,
      "_view_module": "@jupyter-widgets/base",
      "_view_module_version": "1.2.0",
      "_view_name": "StyleView",
      "description_width": ""
     }
    },
    "24b266e85faf4bd89854c57a7b5e5c20": {
     "model_module": "@jupyter-widgets/controls",
     "model_module_version": "1.5.0",
     "model_name": "DescriptionStyleModel",
     "state": {
      "_model_module": "@jupyter-widgets/controls",
      "_model_module_version": "1.5.0",
      "_model_name": "DescriptionStyleModel",
      "_view_count": null,
      "_view_module": "@jupyter-widgets/base",
      "_view_module_version": "1.2.0",
      "_view_name": "StyleView",
      "description_width": ""
     }
    },
    "2d62ed9fe8c94a05bf14b12a0c1ccecf": {
     "model_module": "@jupyter-widgets/controls",
     "model_module_version": "1.5.0",
     "model_name": "HTMLModel",
     "state": {
      "_dom_classes": [],
      "_model_module": "@jupyter-widgets/controls",
      "_model_module_version": "1.5.0",
      "_model_name": "HTMLModel",
      "_view_count": null,
      "_view_module": "@jupyter-widgets/controls",
      "_view_module_version": "1.5.0",
      "_view_name": "HTMLView",
      "description": "",
      "description_tooltip": null,
      "layout": "IPY_MODEL_56d8275d09e945afac3f1f1a52dc4a63",
      "placeholder": "​",
      "style": "IPY_MODEL_24b266e85faf4bd89854c57a7b5e5c20",
      "value": " 30000/30000 [1:31:43&lt;00:00,  5.37it/s]"
     }
    },
    "34f16beb85774ac4a92139bc25982060": {
     "model_module": "@jupyter-widgets/controls",
     "model_module_version": "1.5.0",
     "model_name": "HTMLModel",
     "state": {
      "_dom_classes": [],
      "_model_module": "@jupyter-widgets/controls",
      "_model_module_version": "1.5.0",
      "_model_name": "HTMLModel",
      "_view_count": null,
      "_view_module": "@jupyter-widgets/controls",
      "_view_module_version": "1.5.0",
      "_view_name": "HTMLView",
      "description": "",
      "description_tooltip": null,
      "layout": "IPY_MODEL_a90c64e3acde4a16b11b8d3d19af4c31",
      "placeholder": "​",
      "style": "IPY_MODEL_1f9bcfa1cda049d490a08e88af9e8b55",
      "value": "100%"
     }
    },
    "4604852a2efb4d18a7c9fea07504eae7": {
     "model_module": "@jupyter-widgets/controls",
     "model_module_version": "1.5.0",
     "model_name": "FloatProgressModel",
     "state": {
      "_dom_classes": [],
      "_model_module": "@jupyter-widgets/controls",
      "_model_module_version": "1.5.0",
      "_model_name": "FloatProgressModel",
      "_view_count": null,
      "_view_module": "@jupyter-widgets/controls",
      "_view_module_version": "1.5.0",
      "_view_name": "ProgressView",
      "bar_style": "success",
      "description": "",
      "description_tooltip": null,
      "layout": "IPY_MODEL_5eeddd3a2c4b4c99947c497de17c8a39",
      "max": 30000,
      "min": 0,
      "orientation": "horizontal",
      "style": "IPY_MODEL_6714aa2ca45e49d9ac2f07f6768b5cc8",
      "value": 30000
     }
    },
    "56d8275d09e945afac3f1f1a52dc4a63": {
     "model_module": "@jupyter-widgets/base",
     "model_module_version": "1.2.0",
     "model_name": "LayoutModel",
     "state": {
      "_model_module": "@jupyter-widgets/base",
      "_model_module_version": "1.2.0",
      "_model_name": "LayoutModel",
      "_view_count": null,
      "_view_module": "@jupyter-widgets/base",
      "_view_module_version": "1.2.0",
      "_view_name": "LayoutView",
      "align_content": null,
      "align_items": null,
      "align_self": null,
      "border": null,
      "bottom": null,
      "display": null,
      "flex": null,
      "flex_flow": null,
      "grid_area": null,
      "grid_auto_columns": null,
      "grid_auto_flow": null,
      "grid_auto_rows": null,
      "grid_column": null,
      "grid_gap": null,
      "grid_row": null,
      "grid_template_areas": null,
      "grid_template_columns": null,
      "grid_template_rows": null,
      "height": null,
      "justify_content": null,
      "justify_items": null,
      "left": null,
      "margin": null,
      "max_height": null,
      "max_width": null,
      "min_height": null,
      "min_width": null,
      "object_fit": null,
      "object_position": null,
      "order": null,
      "overflow": null,
      "overflow_x": null,
      "overflow_y": null,
      "padding": null,
      "right": null,
      "top": null,
      "visibility": null,
      "width": null
     }
    },
    "5eeddd3a2c4b4c99947c497de17c8a39": {
     "model_module": "@jupyter-widgets/base",
     "model_module_version": "1.2.0",
     "model_name": "LayoutModel",
     "state": {
      "_model_module": "@jupyter-widgets/base",
      "_model_module_version": "1.2.0",
      "_model_name": "LayoutModel",
      "_view_count": null,
      "_view_module": "@jupyter-widgets/base",
      "_view_module_version": "1.2.0",
      "_view_name": "LayoutView",
      "align_content": null,
      "align_items": null,
      "align_self": null,
      "border": null,
      "bottom": null,
      "display": null,
      "flex": null,
      "flex_flow": null,
      "grid_area": null,
      "grid_auto_columns": null,
      "grid_auto_flow": null,
      "grid_auto_rows": null,
      "grid_column": null,
      "grid_gap": null,
      "grid_row": null,
      "grid_template_areas": null,
      "grid_template_columns": null,
      "grid_template_rows": null,
      "height": null,
      "justify_content": null,
      "justify_items": null,
      "left": null,
      "margin": null,
      "max_height": null,
      "max_width": null,
      "min_height": null,
      "min_width": null,
      "object_fit": null,
      "object_position": null,
      "order": null,
      "overflow": null,
      "overflow_x": null,
      "overflow_y": null,
      "padding": null,
      "right": null,
      "top": null,
      "visibility": null,
      "width": null
     }
    },
    "6714aa2ca45e49d9ac2f07f6768b5cc8": {
     "model_module": "@jupyter-widgets/controls",
     "model_module_version": "1.5.0",
     "model_name": "ProgressStyleModel",
     "state": {
      "_model_module": "@jupyter-widgets/controls",
      "_model_module_version": "1.5.0",
      "_model_name": "ProgressStyleModel",
      "_view_count": null,
      "_view_module": "@jupyter-widgets/base",
      "_view_module_version": "1.2.0",
      "_view_name": "StyleView",
      "bar_color": null,
      "description_width": ""
     }
    },
    "a90c64e3acde4a16b11b8d3d19af4c31": {
     "model_module": "@jupyter-widgets/base",
     "model_module_version": "1.2.0",
     "model_name": "LayoutModel",
     "state": {
      "_model_module": "@jupyter-widgets/base",
      "_model_module_version": "1.2.0",
      "_model_name": "LayoutModel",
      "_view_count": null,
      "_view_module": "@jupyter-widgets/base",
      "_view_module_version": "1.2.0",
      "_view_name": "LayoutView",
      "align_content": null,
      "align_items": null,
      "align_self": null,
      "border": null,
      "bottom": null,
      "display": null,
      "flex": null,
      "flex_flow": null,
      "grid_area": null,
      "grid_auto_columns": null,
      "grid_auto_flow": null,
      "grid_auto_rows": null,
      "grid_column": null,
      "grid_gap": null,
      "grid_row": null,
      "grid_template_areas": null,
      "grid_template_columns": null,
      "grid_template_rows": null,
      "height": null,
      "justify_content": null,
      "justify_items": null,
      "left": null,
      "margin": null,
      "max_height": null,
      "max_width": null,
      "min_height": null,
      "min_width": null,
      "object_fit": null,
      "object_position": null,
      "order": null,
      "overflow": null,
      "overflow_x": null,
      "overflow_y": null,
      "padding": null,
      "right": null,
      "top": null,
      "visibility": null,
      "width": null
     }
    },
    "d83bced47fd74b8babec33d817b08e6a": {
     "model_module": "@jupyter-widgets/base",
     "model_module_version": "1.2.0",
     "model_name": "LayoutModel",
     "state": {
      "_model_module": "@jupyter-widgets/base",
      "_model_module_version": "1.2.0",
      "_model_name": "LayoutModel",
      "_view_count": null,
      "_view_module": "@jupyter-widgets/base",
      "_view_module_version": "1.2.0",
      "_view_name": "LayoutView",
      "align_content": null,
      "align_items": null,
      "align_self": null,
      "border": null,
      "bottom": null,
      "display": null,
      "flex": null,
      "flex_flow": null,
      "grid_area": null,
      "grid_auto_columns": null,
      "grid_auto_flow": null,
      "grid_auto_rows": null,
      "grid_column": null,
      "grid_gap": null,
      "grid_row": null,
      "grid_template_areas": null,
      "grid_template_columns": null,
      "grid_template_rows": null,
      "height": null,
      "justify_content": null,
      "justify_items": null,
      "left": null,
      "margin": null,
      "max_height": null,
      "max_width": null,
      "min_height": null,
      "min_width": null,
      "object_fit": null,
      "object_position": null,
      "order": null,
      "overflow": null,
      "overflow_x": null,
      "overflow_y": null,
      "padding": null,
      "right": null,
      "top": null,
      "visibility": null,
      "width": null
     }
    },
    "dc0f938ecf6e452f9a497a311081d191": {
     "model_module": "@jupyter-widgets/controls",
     "model_module_version": "1.5.0",
     "model_name": "HBoxModel",
     "state": {
      "_dom_classes": [],
      "_model_module": "@jupyter-widgets/controls",
      "_model_module_version": "1.5.0",
      "_model_name": "HBoxModel",
      "_view_count": null,
      "_view_module": "@jupyter-widgets/controls",
      "_view_module_version": "1.5.0",
      "_view_name": "HBoxView",
      "box_style": "",
      "children": [
       "IPY_MODEL_34f16beb85774ac4a92139bc25982060",
       "IPY_MODEL_4604852a2efb4d18a7c9fea07504eae7",
       "IPY_MODEL_2d62ed9fe8c94a05bf14b12a0c1ccecf"
      ],
      "layout": "IPY_MODEL_d83bced47fd74b8babec33d817b08e6a"
     }
    }
   }
  }
 },
 "nbformat": 4,
 "nbformat_minor": 1
}
